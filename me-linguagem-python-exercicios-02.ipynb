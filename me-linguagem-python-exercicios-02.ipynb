{
 "cells": [
  {
   "cell_type": "markdown",
   "metadata": {},
   "source": [
    "# Mentoria Evolution - Exercícios Python "
   ]
  },
  {
   "cell_type": "markdown",
   "metadata": {},
   "source": [
    "https://minerandodados.com.br"
   ]
  },
  {
   "cell_type": "markdown",
   "metadata": {},
   "source": [
    "* Para executar uma célula digite **Control + enter** ou clique em **Run**.\n",
    "* As celulas para rodar script Python devem ser do tipo code.\n",
    "* Crie células abaixo das celulas que foram escrito o enunciado das questões com as respostas."
   ]
  },
  {
   "cell_type": "markdown",
   "metadata": {},
   "source": [
    "**Obs**: Caso de dúvidas, volte na aula anterior de Python. Não desista :)"
   ]
  },
  {
   "cell_type": "markdown",
   "metadata": {},
   "source": [
    "## Exercícios de Fixação"
   ]
  },
  {
   "cell_type": "markdown",
   "metadata": {},
   "source": [
    "1) Responda: É possível ter elementos de tipos difentes em uma mesma lista? Exemplo: strings e números?"
   ]
  },
  {
   "cell_type": "markdown",
   "metadata": {},
   "source": [
    "Sim"
   ]
  },
  {
   "cell_type": "markdown",
   "metadata": {},
   "source": [
    "2) Trabalhando com Listas, faça:\n",
    "- a) Cria uma lista de valores inteiros com o **nome** e **idades**.\n",
    "- b) Imprima apenas segundo elemento da lista.\n",
    "- c) Imprima a quantidade de elementos da lista.\n",
    "- d) Substitua o valor do segundo elemento da lista e imprima o resultado.\n",
    "- e) Imprima apenas os valores do segundo elemento em diante.\n",
    "- f) Remova qualquer elemento da lista e imprima o resultado.\n",
    "- g) Defina uma lista chamada salarios com os valores : **900,1200,1500,800,12587,10000**.\n",
    "- h) Verifique se contém o valor 10000 na lista de salarios.\n",
    "- i) Imprima o menor e maior valor da lista.\n",
    "- j) Adicione o valor 7000 a lista.\n",
    "- l) Extenda a lista com dois novos elementos utilizando apenas um método.\n",
    "- m) Imprima o índice do elemento de valor 800 da lista de salarios.\n",
    "- n) Faça uma ordenação dos valores da lista de salarios em ordem crescente e decrescente."
   ]
  },
  {
   "cell_type": "markdown",
   "metadata": {},
   "source": [
    "3) Trabalhando com dicionários:\n",
    "- a) Crie um dicionário para armazenar o nome e a idade de pessoas, Exemplo:\n",
    "    pessoas = {'Rodrigo':30, 'Fulana':18}\n",
    "- b) Imprima a idade da pessoa \"Fulana\"\n",
    "- c) Imprima as Chaves do dicionario criado anteriormente.\n",
    "- d) Imprima os valores das chaves do dicionário\n",
    "- e) Busque a chave \"Felipe\" se ela não existe insira esta e o valor 30 (obs: use o método setdefault())"
   ]
  },
  {
   "cell_type": "markdown",
   "metadata": {},
   "source": [
    "4) Estruturas condicionais:\n",
    "- a) Verifique se 5 é maior que 1, se sim, imprima \"5 é maior que 1\"\n",
    "- b) crie as variávies x1 e y1, defina dois valores quaisquer para as duas variáveis. \n",
    "  Verifique se x1 é maior que y1. Se sim, imprima \"x1 é maior que y1\", senão imprima: \"y1 é maior que x1\"\n",
    "- c) Crie uma lista de valores como [2,3,4,5,6,7] e faça um loop para imprimir todos os valores na tela multiplicados por 2."
   ]
  },
  {
   "cell_type": "markdown",
   "metadata": {},
   "source": [
    "- Ao concluir, salve seu notebook e envie suas respostas para **contato@minerandodados.com.br**"
   ]
  }
 ],
 "metadata": {
  "kernelspec": {
   "display_name": "Python 3",
   "language": "python",
   "name": "python3"
  },
  "language_info": {
   "codemirror_mode": {
    "name": "ipython",
    "version": 3
   },
   "file_extension": ".py",
   "mimetype": "text/x-python",
   "name": "python",
   "nbconvert_exporter": "python",
   "pygments_lexer": "ipython3",
   "version": "3.6.1"
  },
  "widgets": {
   "application/vnd.jupyter.widget-state+json": {
    "state": {},
    "version_major": 2,
    "version_minor": 0
   }
  }
 },
 "nbformat": 4,
 "nbformat_minor": 2
}
